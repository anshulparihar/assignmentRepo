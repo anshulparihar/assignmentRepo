{
 "cells": [
  {
   "cell_type": "markdown",
   "metadata": {},
   "source": [
    "1.1 Write a Python Program(with class concepts) to find the area of the triangle using the below\n",
    "formula.\n",
    "area = (s*(s-a)*(s-b)*(s-c)) ** 0.5\n",
    "Function to take the length of the sides of triangle from user should be defined in the parent\n",
    "class and function to calculate the area should be defined in subclass."
   ]
  },
  {
   "cell_type": "code",
   "execution_count": 3,
   "metadata": {},
   "outputs": [
    {
     "name": "stdout",
     "output_type": "stream",
     "text": [
      "enter a: 4\n",
      "enter b: 5\n",
      "Enter c: 6\n",
      "Area of Triangle: 98.4375\n"
     ]
    }
   ],
   "source": [
    "class triangleSides:\n",
    "    def  __init__(self):\n",
    "        self.a = int(input(\"enter a: \"))\n",
    "        self.b = int(input(\"enter b: \"))\n",
    "        self.c = int(input(\"Enter c: \"))\n",
    "\n",
    "class calculateArea(triangleSides):\n",
    "    def __init__(self):\n",
    "        triangleSides.__init__(self)\n",
    "    def calArea(self):\n",
    "        a = self.a\n",
    "        b = self.b\n",
    "        c = self.c\n",
    "        self.s = (a+b+c)/2\n",
    "        s = self.s\n",
    "        self.area = (s*(s-a)*(s-b)*(s-c))\n",
    "        print(f'Area of Triangle: {self.area}')\n",
    "\n",
    "ca= calculateArea()\n",
    "ca.calArea()"
   ]
  },
  {
   "cell_type": "markdown",
   "metadata": {},
   "source": [
    "1.2 Write a function filter_long_words() that takes a list of words and an integer n and returns\n",
    "the list of words that are longer than n."
   ]
  },
  {
   "cell_type": "code",
   "execution_count": 4,
   "metadata": {},
   "outputs": [
    {
     "name": "stdout",
     "output_type": "stream",
     "text": [
      "Enter number of words: 3\n",
      "abc\n",
      "abcdef\n",
      "abcdefghij\n",
      "Enter the length of word: 4\n",
      "['abcdef', 'abcdefghij']\n"
     ]
    }
   ],
   "source": [
    "def filter_long_words(words,n):\n",
    "    return list(filter(lambda i:len(i) > n ,words))\n",
    "words = []\n",
    "totalWords = int(input(\"Enter number of words: \"))\n",
    "for i in range (0 , totalWords):\n",
    "    wo=input()\n",
    "    words.append(wo)\n",
    "n = int(input(\"Enter the length of word: \"))\n",
    "output = filter_long_words(words,n)\n",
    "print(output)"
   ]
  },
  {
   "cell_type": "markdown",
   "metadata": {},
   "source": [
    "2.1 Write a Python program using function concept that maps list of words into a list of integers\n",
    "representing the lengths of the corresponding words.\n",
    "Hint: If a list [ ab,cde,erty] is passed on to the python function output should come as [2,3,4]\n",
    "Here 2,3 and 4 are the lengths of the words in the list."
   ]
  },
  {
   "cell_type": "code",
   "execution_count": 5,
   "metadata": {},
   "outputs": [
    {
     "name": "stdout",
     "output_type": "stream",
     "text": [
      "Enter number of words: 3\n",
      "ab\n",
      "cde\n",
      "erty\n",
      "[2, 3, 4]\n"
     ]
    }
   ],
   "source": [
    "def word_count(words):\n",
    "    return len(words)\n",
    "\n",
    "words = []\n",
    "totalWords = int(input(\"Enter number of words: \"))\n",
    "for i in range (0 , totalWords):\n",
    "    wo=input()\n",
    "    words.append(wo)\n",
    "output = list(map(word_count,words))\n",
    "print(output)"
   ]
  },
  {
   "cell_type": "markdown",
   "metadata": {},
   "source": [
    "2.2 Write a Python function which takes a character (i.e. a string of length 1) and returns True if\n",
    "it is a vowel, False otherwise."
   ]
  },
  {
   "cell_type": "code",
   "execution_count": 7,
   "metadata": {},
   "outputs": [
    {
     "name": "stdout",
     "output_type": "stream",
     "text": [
      "Enter the character: a\n",
      "True\n"
     ]
    }
   ],
   "source": [
    "char = input(\"Enter the character: \")\n",
    "vowel = ['a','e','i','o','u']\n",
    "if(len(char) is 1):\n",
    "    sol = lambda char: True if char in vowel else False\n",
    "    print(sol(char))\n",
    "else:\n",
    "    print(\"Enterd value is not a character\")"
   ]
  },
  {
   "cell_type": "code",
   "execution_count": null,
   "metadata": {},
   "outputs": [],
   "source": []
  }
 ],
 "metadata": {
  "kernelspec": {
   "display_name": "Python 3",
   "language": "python",
   "name": "python3"
  },
  "language_info": {
   "codemirror_mode": {
    "name": "ipython",
    "version": 3
   },
   "file_extension": ".py",
   "mimetype": "text/x-python",
   "name": "python",
   "nbconvert_exporter": "python",
   "pygments_lexer": "ipython3",
   "version": "3.7.4"
  }
 },
 "nbformat": 4,
 "nbformat_minor": 2
}
