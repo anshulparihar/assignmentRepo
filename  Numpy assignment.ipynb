{
 "cells": [
  {
   "cell_type": "markdown",
   "metadata": {},
   "source": [
    "# Write a function so that the columns of the output matrix are powers of the input vector.\n",
    "The order of the powers is determined by the increasing boolean argument. Specifically, when\n",
    "increasing is False, the i-th output column is the input vector raised element-wise to the power\n",
    "of N - i - 1.\n",
    "\n",
    "HINT: Such a matrix with a geometric progression in each row is named for Alexandre-\n",
    "Theophile Vandermonde."
   ]
  },
  {
   "cell_type": "code",
   "execution_count": 44,
   "metadata": {
    "scrolled": true
   },
   "outputs": [
    {
     "name": "stdout",
     "output_type": "stream",
     "text": [
      "Size of array:5\n",
      "Element:1\n",
      "Element:2\n",
      "Element:3\n",
      "Element:4\n",
      "Element:5\n",
      "[1 2 3 4 5]\n",
      "Enter the number of columns: 3\n",
      "3\n",
      "Output Matrix: \n",
      "[[ 1  1  1]\n",
      " [ 4  2  1]\n",
      " [ 9  3  1]\n",
      " [16  4  1]\n",
      " [25  5  1]]\n"
     ]
    }
   ],
   "source": [
    "arr = []\n",
    "def atv(input_vector, col, increasing=False):\n",
    "    \n",
    "    if not increasing:\n",
    "        output = np.array([x**(col-1-i) for x in input_vector for i in range(col)]).reshape(input_vector.size,col)\n",
    "    elif increasing:\n",
    "        output = np.array([x**i for x in input_vector for i in range(col)]).reshape(input_vector.size,col)\n",
    "    \n",
    "    return output\n",
    "\n",
    "a = int(input(\"Size of array:\"))\n",
    "for i in range(a):\n",
    "    arr.append(int(input(\"Element:\")))\n",
    "input_vector = np.array(arr)\n",
    "print(input_vector)\n",
    "col = int(input(\"Enter the number of columns: \"))\n",
    "print(col)\n",
    "print(f'Output Matrix: \\n{atv(input_vector,col,False)}')\n",
    "\n"
   ]
  },
  {
   "cell_type": "markdown",
   "metadata": {},
   "source": [
    "# Problem Statement\n",
    "Given a sequence of n values x1, x2, ..., xn and a window size k>0, the k-th moving average of\n",
    "the given sequence is defined as follows:\n",
    "The moving average sequence has n-k+1 elements as shown below.\n",
    "The moving averages with k=4 of a ten-value sequence (n=10) is shown below\n",
    "i 1 2 3 4 5 6 7 8 9 10\n",
    "===== == == == == == == == == == ==\n",
    "Input 10 20 30 40 50 60 70 80 90 100\n",
    "y1 25 = (10+20+30+40)/4\n",
    "y2 35 = (20+30+40+50)/4\n",
    "y3 45 = (30+40+50+60)/4\n",
    "y4 55 = (40+50+60+70)/4\n",
    "y5 65 = (50+60+70+80)/4\n",
    "y6 75 = (60+70+80+90)/4\n",
    "y7 85 = (70+80+90+100)/4\n",
    "Thus, the moving average sequence has n-k+1=10-4+1=7 values.\n",
    "\n",
    "Question: Write a function to find moving average in an array over a window:\n",
    "Test it over [3, 5, 7, 2, 8, 10, 11, 65, 72, 81, 99, 100, 150] and window of 3."
   ]
  },
  {
   "cell_type": "code",
   "execution_count": 52,
   "metadata": {},
   "outputs": [
    {
     "name": "stdout",
     "output_type": "stream",
     "text": [
      "Size of array is :13\n",
      "[  5.    4.7   5.7   6.7   9.7  28.7  49.3  72.7  84.   93.3 116.3]\n"
     ]
    }
   ],
   "source": [
    "import numpy as np\n",
    "try:\n",
    "    def mov_avg(a,k):\n",
    "        try:\n",
    "            sum_a = np.cumsum(a)\n",
    "            sum_a[k:] = sum_a[k:] - sum_a[:-k]\n",
    "            return(sum_a[k-1:]/k)\n",
    "        except:\n",
    "            print(\"Error\")\n",
    "        \n",
    "    a = [3, 5, 7, 2, 8, 10, 11, 65, 72, 81, 99, 100, 150]\n",
    "    k=3\n",
    "    n = len(a)#Size of array\n",
    "    print(f'Size of array is :{n}')\n",
    "    ans = mov_avg(a,k).round(1)\n",
    "    print(ans)\n",
    "except Exception as e:\n",
    "    print(e)"
   ]
  },
  {
   "cell_type": "code",
   "execution_count": null,
   "metadata": {},
   "outputs": [],
   "source": []
  }
 ],
 "metadata": {
  "kernelspec": {
   "display_name": "Python 3",
   "language": "python",
   "name": "python3"
  },
  "language_info": {
   "codemirror_mode": {
    "name": "ipython",
    "version": 3
   },
   "file_extension": ".py",
   "mimetype": "text/x-python",
   "name": "python",
   "nbconvert_exporter": "python",
   "pygments_lexer": "ipython3",
   "version": "3.7.6"
  }
 },
 "nbformat": 4,
 "nbformat_minor": 4
}
